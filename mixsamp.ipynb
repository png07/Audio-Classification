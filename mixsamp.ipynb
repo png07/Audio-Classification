{
 "cells": [
  {
   "cell_type": "code",
   "execution_count": 2,
   "metadata": {},
   "outputs": [],
   "source": [
    "from pydub import AudioSegment"
   ]
  },
  {
   "cell_type": "code",
   "execution_count": 33,
   "metadata": {},
   "outputs": [],
   "source": [
    "main = AudioSegment.from_file(r\"C:\\Users\\pratik\\Documents\\Projects\\audio_classification\\UrbanSound8K\\audio\\fold4\\24347-8-0-13.wav\")\n",
    "noise = AudioSegment.from_file(r\"C:\\Users\\pratik\\Documents\\Projects\\audio_classification\\UrbanSound8K\\audio\\fold4\\148837-6-1-0.wav\")"
   ]
  },
  {
   "cell_type": "code",
   "execution_count": 5,
   "metadata": {},
   "outputs": [
    {
     "data": {
      "text/plain": [
       "<_io.BufferedRandom name='C:\\\\Users\\\\pratik\\\\Documents\\\\Projects\\\\audio_classification\\\\mixsamples\\\\street_children2.mp3'>"
      ]
     },
     "execution_count": 5,
     "metadata": {},
     "output_type": "execute_result"
    }
   ],
   "source": [
    "main = AudioSegment.from_file(r\"C:\\Users\\pratik\\Documents\\Projects\\audio_classification\\UrbanSound8K\\audio\\fold3\\49485-9-0-138.wav\")\n",
    "noise = AudioSegment.from_file(r\"C:\\Users\\pratik\\Documents\\Projects\\audio_classification\\UrbanSound8K\\audio\\fold3\\155263-2-0-12.wav\")\n",
    "noise = noise - 10\n",
    "mixed = main.overlay(noise)\n",
    "mixed.export(r\"C:\\Users\\pratik\\Documents\\Projects\\audio_classification\\mixsamples\\street_children2.mp3\", format=\"mp3\")"
   ]
  },
  {
   "cell_type": "code",
   "execution_count": 19,
   "metadata": {},
   "outputs": [
    {
     "data": {
      "text/plain": [
       "<_io.BufferedRandom name='C:\\\\Users\\\\pratik\\\\Documents\\\\Projects\\\\audio_classification\\\\mixsamples\\\\siren_gun.wav'>"
      ]
     },
     "execution_count": 19,
     "metadata": {},
     "output_type": "execute_result"
    }
   ],
   "source": [
    "noise = noise - 20  # Lower the volume of noise\n",
    "\n",
    "# Set the interval for noise overlay (4 seconds in milliseconds)\n",
    "interval_ms = 2000\n",
    "\n",
    "# Create a new audio segment to store the result\n",
    "mixed = main\n",
    "\n",
    "# Loop through the main audio and add noise at intervals\n",
    "for start in range(interval_ms, len(main), interval_ms):\n",
    "    # Overlay the noise at the specified interval\n",
    "    mixed = mixed.overlay(noise, position=start)\n",
    "\n",
    "# Save the mixed audio\n",
    "mixed.export(r\"C:\\Users\\pratik\\Documents\\Projects\\audio_classification\\mixsamples\\siren_gun.wav\", format=\"wav\")"
   ]
  },
  {
   "cell_type": "code",
   "execution_count": 8,
   "metadata": {},
   "outputs": [
    {
     "data": {
      "text/plain": [
       "<_io.BufferedRandom name='C:\\\\Users\\\\pratik\\\\Documents\\\\Projects\\\\audio_classification\\\\mixsamples\\\\laugh_gun2.wav'>"
      ]
     },
     "execution_count": 8,
     "metadata": {},
     "output_type": "execute_result"
    }
   ],
   "source": [
    "main = AudioSegment.from_file(r\"C:\\Users\\pratik\\Documents\\Projects\\audio_classification\\laughs\\WhatsApp-Audio-2025-01-04-at-23.42.18_487756d8.mp3\")\n",
    "noise = AudioSegment.from_file(r\"C:\\Users\\pratik\\Documents\\Projects\\audio_classification\\samples\\pistol-shot-233473.mp3\")\n",
    "noise = noise - 20# Decrease noise volume\n",
    "\n",
    "# Set the specific position for overlay (e.g., 2 seconds in milliseconds)\n",
    "position_ms = 3000  # 2 seconds\n",
    "\n",
    "# Overlay the noise at the specified position\n",
    "mixed = main.overlay(noise, position=position_ms)\n",
    "\n",
    "# Save the mixed audio\n",
    "output_path = r\"C:\\Users\\pratik\\Documents\\Projects\\audio_classification\\mixsamples\\laugh_gun2.wav\"\n",
    "mixed.export(output_path, format=\"wav\")"
   ]
  },
  {
   "cell_type": "code",
   "execution_count": null,
   "metadata": {},
   "outputs": [],
   "source": []
  }
 ],
 "metadata": {
  "kernelspec": {
   "display_name": "myenv",
   "language": "python",
   "name": "python3"
  },
  "language_info": {
   "codemirror_mode": {
    "name": "ipython",
    "version": 3
   },
   "file_extension": ".py",
   "mimetype": "text/x-python",
   "name": "python",
   "nbconvert_exporter": "python",
   "pygments_lexer": "ipython3",
   "version": "3.12.7"
  }
 },
 "nbformat": 4,
 "nbformat_minor": 2
}
